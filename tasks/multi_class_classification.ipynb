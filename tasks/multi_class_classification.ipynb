{
 "cells": [
  {
   "cell_type": "code",
   "execution_count": 65,
   "metadata": {},
   "outputs": [],
   "source": [
    "import json\n",
    "import pandas as pd\n",
    "from sklearn.model_selection import train_test_split\n",
    "from sklearn.feature_extraction.text import TfidfVectorizer\n",
    "from sklearn.ensemble import RandomForestClassifier\n",
    "from xgboost import XGBClassifier\n",
    "from sklearn.metrics import classification_report, accuracy_score\n",
    "from tqdm import tqdm\n",
    "import matplotlib.pyplot as plt\n",
    "import seaborn as sns\n",
    "from sklearn.metrics import confusion_matrix\n",
    "\n",
    "def load_dataset(file_path, max_rows=None):\n",
    "    \"\"\"\n",
    "    从 JSON 文件加载数据，并转化为 Pandas DataFrame。\n",
    "    \n",
    "    Args:\n",
    "        file_path (str): JSON 文件路径。\n",
    "        max_rows (int): 加载的最大行数（用于调试或快速测试）。\n",
    "\n",
    "    Returns:\n",
    "        pd.DataFrame: 包含数据的 DataFrame。\n",
    "    \"\"\"\n",
    "    data = []\n",
    "    with open(file_path, 'r', encoding='utf-8') as f:\n",
    "        for idx, line in enumerate(tqdm(f, desc=\"Loading dataset\")):\n",
    "            if max_rows and idx >= max_rows:\n",
    "                break\n",
    "            record = json.loads(line.strip())\n",
    "            data.append(record)\n",
    "    return pd.DataFrame(data)\n",
    "\n",
    "def preprocess_data(df, label_column):\n",
    "    \"\"\"\n",
    "    数据预处理，包括分离特征和标签，以及数据划分。\n",
    "    \n",
    "    Args:\n",
    "        df (pd.DataFrame): 原始数据的 DataFrame。\n",
    "        label_column (str): 用于预测的标签列。\n",
    "\n",
    "    Returns:\n",
    "        X_train, X_test, y_train, y_test: 训练集和测试集的特征与标签。\n",
    "    \"\"\"\n",
    "    # 提取特征和标签\n",
    "    X = df['abstract']\n",
    "    y = df[label_column]\n",
    "    \n",
    "    # 划分训练集和测试集\n",
    "    X_train, X_test, y_train, y_test = train_test_split(\n",
    "        X, y, test_size=0.2, random_state=42, stratify=y\n",
    "    )\n",
    "    return X_train, X_test, y_train, y_test\n",
    "\n",
    "def train_random_forest(X_train_tfidf, y_train):\n",
    "    \"\"\"\n",
    "    使用随机森林训练模型。\n",
    "    \n",
    "    Args:\n",
    "        X_train_tfidf: TF-IDF 转换后的训练集特征。\n",
    "        y_train (pd.Series): 训练集标签。\n",
    "\n",
    "    Returns:\n",
    "        model (RandomForestClassifier): 训练好的随机森林模型。\n",
    "    \"\"\"\n",
    "    # 随机森林模型训练\n",
    "    model = RandomForestClassifier(n_estimators=100, random_state=42, n_jobs=-1)\n",
    "    model.fit(X_train_tfidf, y_train)\n",
    "    \n",
    "    return model\n",
    "\n",
    "def train_xgboost(X_train_tfidf, y_train):\n",
    "    \"\"\"\n",
    "    使用 XGBoost 训练模型。\n",
    "    \n",
    "    Args:\n",
    "        X_train_tfidf: TF-IDF 转换后的训练集特征。\n",
    "        y_train (pd.Series): 训练集标签。\n",
    "\n",
    "    Returns:\n",
    "        model (XGBClassifier): 训练好的 XGBoost 模型。\n",
    "    \"\"\"\n",
    "    # XGBoost 模型训练\n",
    "    model = XGBClassifier(\n",
    "        objective='multi:softmax',  # 多分类问题\n",
    "        verbosity=2,               # 显示训练过程\n",
    "        random_state=42,         # 固定随机种子\n",
    "        n_jobs=-1,                # 使用多线程\n",
    "        eval_metric='mlogloss'   # 评估指标\n",
    "    )\n",
    "    model.fit(X_train_tfidf, y_train)\n",
    "    \n",
    "    return model\n",
    "\n",
    "def evaluate_model(model, X_test_tfidf, y_test, label_name):\n",
    "    \"\"\"\n",
    "    评估模型性能。\n",
    "    \n",
    "    Args:\n",
    "        model: 训练好的模型。\n",
    "        X_test_tfidf: TF-IDF 转换后的测试集特征。\n",
    "        y_test (pd.Series): 测试集标签。\n",
    "        label_name (str): 当前使用的标签名称（Scopus_label 或 cluster_label）。\n",
    "\n",
    "    Returns:\n",
    "        dict: 包含性能指标的字典。\n",
    "    \"\"\"\n",
    "    # make prediction\n",
    "    y_pred = model.predict(X_test_tfidf)\n",
    "    # print performance metrics\n",
    "    print(f\"results using label {label_name}：\")\n",
    "    print(classification_report(y_test, y_pred))\n",
    "    accuracy = accuracy_score(y_test, y_pred)\n",
    "    print(f\"Test accuracy：{accuracy:.4f}\")"
   ]
  },
  {
   "cell_type": "code",
   "execution_count": 70,
   "metadata": {},
   "outputs": [
    {
     "name": "stdout",
     "output_type": "stream",
     "text": [
      "data_dir:  /home/lyuzhuoqi/projects/clustering/data\n",
      "2024-11-22 00:54:31 -- Start loading dataset\n"
     ]
    },
    {
     "name": "stderr",
     "output_type": "stream",
     "text": [
      "Loading dataset: 10000it [00:00, 249140.43it/s]"
     ]
    },
    {
     "name": "stdout",
     "output_type": "stream",
     "text": [
      "2024-11-22 00:54:31 -- Dataset loaded\n",
      "2024-11-22 00:54:31 -- Constructing TF-IDF vectorizer...\n"
     ]
    },
    {
     "name": "stderr",
     "output_type": "stream",
     "text": [
      "\n"
     ]
    },
    {
     "name": "stdout",
     "output_type": "stream",
     "text": [
      "2024-11-22 00:54:31 -- TF-IDF finished\n"
     ]
    }
   ],
   "source": [
    "import sys\n",
    "sys.path.append(\"clustering\")\n",
    "\n",
    "import os\n",
    "from utils import get_data_dir, prinT\n",
    "import nltk\n",
    "\n",
    "# Step 1: Load dataset\n",
    "dataset_path = os.path.join(get_data_dir(), \"2010s\",\"dataset.json\")\n",
    "prinT(\"Start loading dataset\")\n",
    "df = load_dataset(dataset_path, max_rows=10000)  # limit rows for quick testing\n",
    "prinT(\"Dataset loaded\")\n",
    "\n",
    "# Step 2: split data (keep same X_train, X_test for both labels)\n",
    "X_train, X_test, _, _ = preprocess_data(df, label_column='Scopus_label')\n",
    "\n",
    "# Step 3: construct TF-IDF vectorizer\n",
    "prinT(\"Constructing TF-IDF vectorizer...\")\n",
    "vectorizer = TfidfVectorizer(max_features=None, stop_words=nltk.corpus.stopwords.words('english'))\n",
    "X_train_tfidf = vectorizer.fit_transform(X_train)  # only fit on training data\n",
    "X_test_tfidf = vectorizer.transform(X_test)  # transform on test data\n",
    "prinT(\"TF-IDF finished\")"
   ]
  },
  {
   "cell_type": "code",
   "execution_count": 30,
   "metadata": {},
   "outputs": [
    {
     "data": {
      "text/plain": [
       "cluster_label\n",
       "23    8297\n",
       "22    6669\n",
       "15    4706\n",
       "0     3758\n",
       "20    3097\n",
       "12    2556\n",
       "18    2414\n",
       "8     1897\n",
       "5     1780\n",
       "3     1716\n",
       "16    1426\n",
       "13    1311\n",
       "9     1252\n",
       "21    1126\n",
       "19    1098\n",
       "10    1006\n",
       "1      979\n",
       "2      933\n",
       "24     863\n",
       "11     714\n",
       "17     616\n",
       "4      610\n",
       "7      396\n",
       "25     373\n",
       "14     264\n",
       "6      143\n",
       "Name: count, dtype: int64"
      ]
     },
     "execution_count": 30,
     "metadata": {},
     "output_type": "execute_result"
    }
   ],
   "source": [
    "df['cluster_label'].value_counts()"
   ]
  },
  {
   "cell_type": "code",
   "execution_count": 34,
   "metadata": {},
   "outputs": [
    {
     "data": {
      "text/plain": [
       "Scopus_label\n",
       "Chemistry                                       2426\n",
       "Materials Science                               2335\n",
       "Physics and Astronomy                           1970\n",
       "Chemical Engineering                             616\n",
       "Energy                                           270\n",
       "Engineering                                      231\n",
       "Environmental Science                            129\n",
       "Multidisciplinary                                123\n",
       "Medicine                                          93\n",
       "Biochemistry, Genetics and Molecular Biology      43\n",
       "Agricultural and Biological Sciences              19\n",
       "Earth and Planetary Sciences                      19\n",
       "Mathematics                                        6\n",
       "Health Professions                                 6\n",
       "Arts and Humanities                                3\n",
       "Social Sciences                                    3\n",
       "Pharmacology, Toxicology and Pharmaceutics         2\n",
       "Immunology and Microbiology                        2\n",
       "Nursing                                            1\n",
       "Name: count, dtype: int64"
      ]
     },
     "execution_count": 34,
     "metadata": {},
     "output_type": "execute_result"
    }
   ],
   "source": [
    "df[df['cluster_label']==23]['Scopus_label'].value_counts()"
   ]
  },
  {
   "cell_type": "code",
   "execution_count": 35,
   "metadata": {},
   "outputs": [
    {
     "data": {
      "text/plain": [
       "Scopus_label\n",
       "Biochemistry, Genetics and Molecular Biology    2445\n",
       "Medicine                                        1134\n",
       "Multidisciplinary                                929\n",
       "Pharmacology, Toxicology and Pharmaceutics       817\n",
       "Immunology and Microbiology                      672\n",
       "Chemistry                                        337\n",
       "Nursing                                          104\n",
       "Agricultural and Biological Sciences              90\n",
       "Engineering                                       64\n",
       "Computer Science                                  21\n",
       "Environmental Science                             16\n",
       "Mathematics                                       11\n",
       "Social Sciences                                   11\n",
       "Materials Science                                  9\n",
       "Chemical Engineering                               4\n",
       "Neuroscience                                       3\n",
       "Veterinary                                         2\n",
       "Name: count, dtype: int64"
      ]
     },
     "execution_count": 35,
     "metadata": {},
     "output_type": "execute_result"
    }
   ],
   "source": [
    "df[df['cluster_label']==22]['Scopus_label'].value_counts()"
   ]
  },
  {
   "cell_type": "code",
   "execution_count": 12,
   "metadata": {},
   "outputs": [
    {
     "name": "stdout",
     "output_type": "stream",
     "text": [
      "\n",
      "Start preprocessing label columns：Scopus_label\n",
      "2024-11-21 23:39:46 -- Start training model\n"
     ]
    },
    {
     "name": "stdout",
     "output_type": "stream",
     "text": [
      "2024-11-21 23:39:57 -- Model trained\n"
     ]
    }
   ],
   "source": [
    "# Step 3: train model and evaluate\n",
    "label_column = 'Scopus_label'\n",
    "print(f\"\\nStart preprocessing label columns：{label_column}\")\n",
    "_, _, y_train, y_test = preprocess_data(df, label_column=label_column)\n",
    "prinT(\"Start training model\")\n",
    "model = train_random_forest(X_train_tfidf, y_train)\n",
    "prinT(\"Model trained\")"
   ]
  },
  {
   "cell_type": "code",
   "execution_count": 15,
   "metadata": {},
   "outputs": [
    {
     "name": "stdout",
     "output_type": "stream",
     "text": [
      "results using label Scopus_label：\n",
      "                                              precision    recall  f1-score   support\n",
      "\n",
      "        Agricultural and Biological Sciences       0.51      0.58      0.54       601\n",
      "                         Arts and Humanities       0.36      0.14      0.21       167\n",
      "Biochemistry, Genetics and Molecular Biology       0.50      0.37      0.43       560\n",
      "         Business, Management and Accounting       0.62      0.24      0.35       132\n",
      "                        Chemical Engineering       0.50      0.02      0.04       144\n",
      "                                   Chemistry       0.50      0.53      0.51       563\n",
      "                            Computer Science       0.44      0.03      0.06       228\n",
      "                           Decision Sciences       0.00      0.00      0.00        23\n",
      "                                   Dentistry       0.00      0.00      0.00        64\n",
      "                Earth and Planetary Sciences       0.65      0.22      0.33       243\n",
      "         Economics, Econometrics and Finance       0.74      0.13      0.23       104\n",
      "                                      Energy       0.64      0.10      0.17       210\n",
      "                                 Engineering       0.39      0.72      0.51      1010\n",
      "                       Environmental Science       0.44      0.07      0.12       284\n",
      "                          Health Professions       0.00      0.00      0.00        56\n",
      "                 Immunology and Microbiology       0.88      0.04      0.07       185\n",
      "                           Materials Science       0.38      0.40      0.39       556\n",
      "                                 Mathematics       0.60      0.37      0.46       209\n",
      "                                    Medicine       0.60      0.92      0.72      2628\n",
      "                           Multidisciplinary       0.50      0.00      0.01       258\n",
      "                                Neuroscience       0.56      0.04      0.08       121\n",
      "                                     Nursing       0.00      0.00      0.00       105\n",
      "  Pharmacology, Toxicology and Pharmaceutics       0.00      0.00      0.00       204\n",
      "                       Physics and Astronomy       0.53      0.40      0.46       566\n",
      "                                  Psychology       0.36      0.03      0.06       147\n",
      "                             Social Sciences       0.43      0.64      0.51       577\n",
      "                                  Veterinary       0.00      0.00      0.00        55\n",
      "\n",
      "                                    accuracy                           0.51     10000\n",
      "                                   macro avg       0.41      0.22      0.23     10000\n",
      "                                weighted avg       0.49      0.51      0.44     10000\n",
      "\n",
      "Test accuracy：0.5090\n"
     ]
    },
    {
     "name": "stderr",
     "output_type": "stream",
     "text": [
      "/home/lyuzhuoqi/miniconda3/envs/p2v/lib/python3.11/site-packages/sklearn/metrics/_classification.py:1531: UndefinedMetricWarning: Precision is ill-defined and being set to 0.0 in labels with no predicted samples. Use `zero_division` parameter to control this behavior.\n",
      "  _warn_prf(average, modifier, f\"{metric.capitalize()} is\", len(result))\n",
      "/home/lyuzhuoqi/miniconda3/envs/p2v/lib/python3.11/site-packages/sklearn/metrics/_classification.py:1531: UndefinedMetricWarning: Precision is ill-defined and being set to 0.0 in labels with no predicted samples. Use `zero_division` parameter to control this behavior.\n",
      "  _warn_prf(average, modifier, f\"{metric.capitalize()} is\", len(result))\n",
      "/home/lyuzhuoqi/miniconda3/envs/p2v/lib/python3.11/site-packages/sklearn/metrics/_classification.py:1531: UndefinedMetricWarning: Precision is ill-defined and being set to 0.0 in labels with no predicted samples. Use `zero_division` parameter to control this behavior.\n",
      "  _warn_prf(average, modifier, f\"{metric.capitalize()} is\", len(result))\n"
     ]
    },
    {
     "data": {
      "image/png": "[encoded data removed]",
      "text/plain": [
       "<Figure size 640x480 with 2 Axes>"
      ]
     },
     "metadata": {},
     "output_type": "display_data"
    }
   ],
   "source": [
    "evaluate_model(model, X_test_tfidf, y_test, label_column)\n",
    "\n",
    "y_pred = model.predict(X_test_tfidf)\n",
    "cm = confusion_matrix(y_test, y_pred, normalize='true')\n",
    "sns.heatmap(cm, annot=False, cmap='Blues')\n",
    "plt.title(f\"Confusion Matrix for {label_column}\")\n",
    "plt.show()"
   ]
  },
  {
   "cell_type": "code",
   "execution_count": 72,
   "metadata": {},
   "outputs": [
    {
     "name": "stdout",
     "output_type": "stream",
     "text": [
      "\n",
      "Start preprocessing label columns：cluster_label\n",
      "2024-11-22 00:57:22 -- Start training model\n",
      "2024-11-22 00:57:25 -- Model trained\n"
     ]
    }
   ],
   "source": [
    "label_column = 'cluster_label'\n",
    "print(f\"\\nStart preprocessing label columns：{label_column}\")\n",
    "_, _, y_train, y_test = preprocess_data(df, label_column=label_column)\n",
    "prinT(\"Start training model\")\n",
    "model = train_random_forest(X_train_tfidf, y_train)\n",
    "# model = train_xgboost(X_train_tfidf, y_train)\n",
    "prinT(\"Model trained\")"
   ]
  },
  {
   "cell_type": "code",
   "execution_count": 51,
   "metadata": {},
   "outputs": [
    {
     "data": {
      "text/plain": [
       "'The aim of this work was to study, from a sociological approach, the perception and consumption motives of amaranth in Mexico using Pierre Bourdieu\\'s theoretical concept of Habitus. A survey was conducted in Mexico City with 610 consumers. Socioeconomic information of gender, age, cultural and economic capitals as internal dispositions that generate social differentiation processes were collected. Consumers\\' perception was identified using an open question through which participants mentioned why they consider the consumption of amaranth to be good. Words, phrases or comments mentioned were grouped into categories through the lemmatization process, and analysed with Global, Per-Cell Chi Square tests and Correspondence Analysis. A Food Choice Questionnaire was used to identify consumption motives of amaranth through Exploratory Factor Analysis and Cluster analysis to identify groups of consumers according to their consumption motives. Results indicated eight categories that reflect consumers\\' perception towards amaranth (Health and well-being, Functionality, Mitigate hunger, Nutritional components, Nutrition, Feeding, Traditional food and Energy), which converge upon traditionality and functionality. Consumption motives were differentiated into \"food as form\" and \"food as function\". Cluster analysis showed distinction in the perception and taste for amaranth. Gender, age, cultural capital and willingness to buy novel food products with added amaranth are markers that reflect internal dispositions of consumers according to their class adscription, and therefore represent their Habitus.'"
      ]
     },
     "execution_count": 51,
     "metadata": {},
     "output_type": "execute_result"
    }
   ],
   "source": [
    "X_train.values[3]"
   ]
  },
  {
   "cell_type": "code",
   "execution_count": 43,
   "metadata": {},
   "outputs": [
    {
     "data": {
      "text/plain": [
       "10738    15\n",
       "35155    23\n",
       "22780     8\n",
       "11163    12\n",
       "22154    23\n",
       "         ..\n",
       "34043    23\n",
       "3590     20\n",
       "49718    21\n",
       "889       1\n",
       "22967     8\n",
       "Name: cluster_label, Length: 40000, dtype: int64"
      ]
     },
     "execution_count": 43,
     "metadata": {},
     "output_type": "execute_result"
    }
   ],
   "source": [
    "y_train"
   ]
  },
  {
   "cell_type": "code",
   "execution_count": 73,
   "metadata": {},
   "outputs": [
    {
     "name": "stdout",
     "output_type": "stream",
     "text": [
      "results using label cluster_label：\n",
      "              precision    recall  f1-score   support\n",
      "\n",
      "           0       0.14      0.01      0.01       134\n",
      "           1       0.00      0.00      0.00        35\n",
      "           2       0.00      0.00      0.00        36\n",
      "           3       0.00      0.00      0.00        66\n",
      "           4       0.00      0.00      0.00        25\n",
      "           5       0.00      0.00      0.00        71\n",
      "           6       0.00      0.00      0.00         8\n",
      "           7       0.00      0.00      0.00        19\n",
      "           8       0.00      0.00      0.00        78\n",
      "           9       0.00      0.00      0.00        53\n",
      "          10       0.00      0.00      0.00        42\n",
      "          11       0.00      0.00      0.00        26\n",
      "          12       0.00      0.00      0.00       101\n",
      "          13       0.00      0.00      0.00        51\n",
      "          14       0.00      0.00      0.00        13\n",
      "          15       0.06      0.02      0.03       180\n",
      "          16       0.00      0.00      0.00        66\n",
      "          17       0.00      0.00      0.00        22\n",
      "          18       0.00      0.00      0.00        96\n",
      "          19       0.00      0.00      0.00        44\n",
      "          20       0.10      0.01      0.01       128\n",
      "          21       0.00      0.00      0.00        48\n",
      "          22       0.13      0.25      0.17       268\n",
      "          23       0.16      0.67      0.26       338\n",
      "          24       0.00      0.00      0.00        38\n",
      "          25       0.00      0.00      0.00        14\n",
      "\n",
      "    accuracy                           0.15      2000\n",
      "   macro avg       0.02      0.04      0.02      2000\n",
      "weighted avg       0.07      0.15      0.07      2000\n",
      "\n",
      "Test accuracy：0.1490\n"
     ]
    },
    {
     "name": "stderr",
     "output_type": "stream",
     "text": [
      "/home/lyuzhuoqi/miniconda3/envs/p2v/lib/python3.11/site-packages/sklearn/metrics/_classification.py:1531: UndefinedMetricWarning: Precision is ill-defined and being set to 0.0 in labels with no predicted samples. Use `zero_division` parameter to control this behavior.\n",
      "  _warn_prf(average, modifier, f\"{metric.capitalize()} is\", len(result))\n",
      "/home/lyuzhuoqi/miniconda3/envs/p2v/lib/python3.11/site-packages/sklearn/metrics/_classification.py:1531: UndefinedMetricWarning: Precision is ill-defined and being set to 0.0 in labels with no predicted samples. Use `zero_division` parameter to control this behavior.\n",
      "  _warn_prf(average, modifier, f\"{metric.capitalize()} is\", len(result))\n",
      "/home/lyuzhuoqi/miniconda3/envs/p2v/lib/python3.11/site-packages/sklearn/metrics/_classification.py:1531: UndefinedMetricWarning: Precision is ill-defined and being set to 0.0 in labels with no predicted samples. Use `zero_division` parameter to control this behavior.\n",
      "  _warn_prf(average, modifier, f\"{metric.capitalize()} is\", len(result))\n"
     ]
    },
    {
     "data": {
      "image/png": "[encoded data removed]",
      "text/plain": [
       "<Figure size 640x480 with 2 Axes>"
      ]
     },
     "metadata": {},
     "output_type": "display_data"
    }
   ],
   "source": [
    "evaluate_model(model, X_test_tfidf, y_test, label_column)\n",
    "\n",
    "y_pred = model.predict(X_test_tfidf)\n",
    "cm = confusion_matrix(y_test, y_pred, normalize='true')\n",
    "sns.heatmap(cm, annot=False, cmap='Blues')\n",
    "plt.title(f\"Confusion Matrix for {label_column}\")\n",
    "plt.show()"
   ]
  }
 ],
 "metadata": {
  "kernelspec": {
   "display_name": "Python 3 (ipykernel)",
   "language": "python",
   "name": "python3"
  },
  "language_info": {
   "codemirror_mode": {
    "name": "ipython",
    "version": 3
   },
   "file_extension": ".py",
   "mimetype": "text/x-python",
   "name": "python",
   "nbconvert_exporter": "python",
   "pygments_lexer": "ipython3",
   "version": "3.11.8"
  }
 },
 "nbformat": 4,
 "nbformat_minor": 2
}
